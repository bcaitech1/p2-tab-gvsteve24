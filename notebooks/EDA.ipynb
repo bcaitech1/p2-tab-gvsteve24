{
 "cells": [
  {
   "cell_type": "code",
   "execution_count": 2,
   "id": "0480a823",
   "metadata": {},
   "outputs": [
    {
     "data": {
      "text/html": [
       "<style type='text/css'>\n",
       ".datatable table.frame { margin-bottom: 0; }\n",
       ".datatable table.frame thead { border-bottom: none; }\n",
       ".datatable table.frame tr.coltypes td {  color: #FFFFFF;  line-height: 6px;  padding: 0 0.5em;}\n",
       ".datatable .bool    { background: #DDDD99; }\n",
       ".datatable .object  { background: #565656; }\n",
       ".datatable .int     { background: #5D9E5D; }\n",
       ".datatable .float   { background: #4040CC; }\n",
       ".datatable .str     { background: #CC4040; }\n",
       ".datatable .row_index {  background: var(--jp-border-color3);  border-right: 1px solid var(--jp-border-color0);  color: var(--jp-ui-font-color3);  font-size: 9px;}\n",
       ".datatable .frame tr.coltypes .row_index {  background: var(--jp-border-color0);}\n",
       ".datatable th:nth-child(2) { padding-left: 12px; }\n",
       ".datatable .hellipsis {  color: var(--jp-cell-editor-border-color);}\n",
       ".datatable .vellipsis {  background: var(--jp-layout-color0);  color: var(--jp-cell-editor-border-color);}\n",
       ".datatable .na {  color: var(--jp-cell-editor-border-color);  font-size: 80%;}\n",
       ".datatable .footer { font-size: 9px; }\n",
       ".datatable .frame_dimensions {  background: var(--jp-border-color3);  border-top: 1px solid var(--jp-border-color0);  color: var(--jp-ui-font-color3);  display: inline-block;  opacity: 0.6;  padding: 1px 10px 1px 5px;}\n",
       "</style>\n"
      ],
      "text/plain": [
       "<IPython.core.display.HTML object>"
      ]
     },
     "metadata": {},
     "output_type": "display_data"
    }
   ],
   "source": [
    "#%%\n",
    "\n",
    "# Suppress warnings \n",
    "import warnings\n",
    "warnings.filterwarnings('ignore')\n",
    "\n",
    "import os, sys, gc, warnings, random\n",
    "\n",
    "from datetime import datetime\n",
    "import dateutil.relativedelta\n",
    "\n",
    "# Data manipulation\n",
    "import pandas as pd \n",
    "import numpy as np\n",
    "\n",
    "# Visualization\n",
    "import matplotlib.pyplot as plt\n",
    "import seaborn as sns\n",
    "\n",
    "# Machine learning\n",
    "from sklearn.pipeline import Pipeline\n",
    "from sklearn.preprocessing import MinMaxScaler, LabelEncoder\n",
    "from sklearn.impute import SimpleImputer\n",
    "from sklearn.metrics import precision_score, recall_score, f1_score, roc_auc_score, precision_recall_curve, roc_curve\n",
    "from sklearn.model_selection import train_test_split, cross_val_score, KFold, StratifiedKFold, GroupKFold\n",
    "from sklearn.ensemble import RandomForestClassifier\n",
    "\n",
    "import lightgbm as lgb\n",
    "import xgboost as xgb\n",
    "from catboost import CatBoostClassifier, Pool\n",
    "\n",
    "from tqdm.notebook import trange, tqdm\n",
    "\n",
    "from IPython.display import display"
   ]
  },
  {
   "cell_type": "markdown",
   "id": "d64cfdfe",
   "metadata": {},
   "source": [
    "#%% md\n",
    "\n",
    "## Train 데이터 읽기\n",
    "- 9개의 feature를 가진 780502개의 train data"
   ]
  },
  {
   "cell_type": "code",
   "execution_count": 3,
   "id": "06ba3905",
   "metadata": {},
   "outputs": [
    {
     "name": "stdout",
     "output_type": "stream",
     "text": [
      "(780502, 9)\n"
     ]
    },
    {
     "data": {
      "text/html": [
       "<div>\n",
       "<style scoped>\n",
       "    .dataframe tbody tr th:only-of-type {\n",
       "        vertical-align: middle;\n",
       "    }\n",
       "\n",
       "    .dataframe tbody tr th {\n",
       "        vertical-align: top;\n",
       "    }\n",
       "\n",
       "    .dataframe thead th {\n",
       "        text-align: right;\n",
       "    }\n",
       "</style>\n",
       "<table border=\"1\" class=\"dataframe\">\n",
       "  <thead>\n",
       "    <tr style=\"text-align: right;\">\n",
       "      <th></th>\n",
       "      <th>order_id</th>\n",
       "      <th>product_id</th>\n",
       "      <th>description</th>\n",
       "      <th>quantity</th>\n",
       "      <th>order_date</th>\n",
       "      <th>price</th>\n",
       "      <th>customer_id</th>\n",
       "      <th>country</th>\n",
       "      <th>total</th>\n",
       "    </tr>\n",
       "  </thead>\n",
       "  <tbody>\n",
       "    <tr>\n",
       "      <th>0</th>\n",
       "      <td>489434</td>\n",
       "      <td>85048</td>\n",
       "      <td>15CM CHRISTMAS GLASS BALL 20 LIGHTS</td>\n",
       "      <td>12</td>\n",
       "      <td>2009-12-01 07:45:00</td>\n",
       "      <td>11.4675</td>\n",
       "      <td>13085</td>\n",
       "      <td>United Kingdom</td>\n",
       "      <td>137.61</td>\n",
       "    </tr>\n",
       "    <tr>\n",
       "      <th>1</th>\n",
       "      <td>489434</td>\n",
       "      <td>79323P</td>\n",
       "      <td>PINK CHERRY LIGHTS</td>\n",
       "      <td>12</td>\n",
       "      <td>2009-12-01 07:45:00</td>\n",
       "      <td>11.1375</td>\n",
       "      <td>13085</td>\n",
       "      <td>United Kingdom</td>\n",
       "      <td>133.65</td>\n",
       "    </tr>\n",
       "    <tr>\n",
       "      <th>2</th>\n",
       "      <td>489434</td>\n",
       "      <td>79323W</td>\n",
       "      <td>WHITE CHERRY LIGHTS</td>\n",
       "      <td>12</td>\n",
       "      <td>2009-12-01 07:45:00</td>\n",
       "      <td>11.1375</td>\n",
       "      <td>13085</td>\n",
       "      <td>United Kingdom</td>\n",
       "      <td>133.65</td>\n",
       "    </tr>\n",
       "    <tr>\n",
       "      <th>3</th>\n",
       "      <td>489434</td>\n",
       "      <td>22041</td>\n",
       "      <td>RECORD FRAME 7\" SINGLE SIZE</td>\n",
       "      <td>48</td>\n",
       "      <td>2009-12-01 07:45:00</td>\n",
       "      <td>3.4650</td>\n",
       "      <td>13085</td>\n",
       "      <td>United Kingdom</td>\n",
       "      <td>166.32</td>\n",
       "    </tr>\n",
       "    <tr>\n",
       "      <th>4</th>\n",
       "      <td>489434</td>\n",
       "      <td>21232</td>\n",
       "      <td>STRAWBERRY CERAMIC TRINKET BOX</td>\n",
       "      <td>24</td>\n",
       "      <td>2009-12-01 07:45:00</td>\n",
       "      <td>2.0625</td>\n",
       "      <td>13085</td>\n",
       "      <td>United Kingdom</td>\n",
       "      <td>49.50</td>\n",
       "    </tr>\n",
       "  </tbody>\n",
       "</table>\n",
       "</div>"
      ],
      "text/plain": [
       "  order_id product_id                          description  quantity  \\\n",
       "0   489434      85048  15CM CHRISTMAS GLASS BALL 20 LIGHTS        12   \n",
       "1   489434     79323P                   PINK CHERRY LIGHTS        12   \n",
       "2   489434     79323W                  WHITE CHERRY LIGHTS        12   \n",
       "3   489434      22041         RECORD FRAME 7\" SINGLE SIZE         48   \n",
       "4   489434      21232       STRAWBERRY CERAMIC TRINKET BOX        24   \n",
       "\n",
       "           order_date    price  customer_id         country   total  \n",
       "0 2009-12-01 07:45:00  11.4675        13085  United Kingdom  137.61  \n",
       "1 2009-12-01 07:45:00  11.1375        13085  United Kingdom  133.65  \n",
       "2 2009-12-01 07:45:00  11.1375        13085  United Kingdom  133.65  \n",
       "3 2009-12-01 07:45:00   3.4650        13085  United Kingdom  166.32  \n",
       "4 2009-12-01 07:45:00   2.0625        13085  United Kingdom   49.50  "
      ]
     },
     "execution_count": 3,
     "metadata": {},
     "output_type": "execute_result"
    }
   ],
   "source": [
    "data = pd.read_csv(\"../input/train.csv\", parse_dates=[\"order_date\"])\n",
    "print(data.shape) # data shape 확인\n",
    "data.head()"
   ]
  },
  {
   "cell_type": "markdown",
   "id": "845157cb",
   "metadata": {},
   "source": [
    "# date and times"
   ]
  },
  {
   "cell_type": "code",
   "execution_count": 4,
   "id": "85b7f02c",
   "metadata": {},
   "outputs": [
    {
     "data": {
      "text/plain": [
       "datetime.datetime"
      ]
     },
     "execution_count": 4,
     "metadata": {},
     "output_type": "execute_result"
    }
   ],
   "source": [
    "date = datetime(year = 2009, month=12, day=1)\n",
    "type(date)"
   ]
  },
  {
   "cell_type": "code",
   "execution_count": 5,
   "id": "b7ee1baf",
   "metadata": {},
   "outputs": [
    {
     "data": {
      "text/plain": [
       "datetime.datetime"
      ]
     },
     "execution_count": 5,
     "metadata": {},
     "output_type": "execute_result"
    }
   ],
   "source": [
    "from dateutil import parser\n",
    "date = parser.parse(\"1st of December, 2009\")\n",
    "type(date)"
   ]
  },
  {
   "cell_type": "code",
   "execution_count": 6,
   "id": "d871142c",
   "metadata": {},
   "outputs": [
    {
     "data": {
      "text/plain": [
       "'Tuesday'"
      ]
     },
     "execution_count": 6,
     "metadata": {},
     "output_type": "execute_result"
    }
   ],
   "source": [
    "# once you have a datetime object, \n",
    "# you can print day\n",
    "date.strftime('%A')"
   ]
  },
  {
   "cell_type": "markdown",
   "id": "8c48ecab",
   "metadata": {},
   "source": [
    "# typed arrays of time: nparrays with dtype=datetime64"
   ]
  },
  {
   "cell_type": "markdown",
   "id": "5db8d5ad",
   "metadata": {},
   "source": [
    "### The datetime64 dtype encodes dates as 64-bit integers."
   ]
  },
  {
   "cell_type": "code",
   "execution_count": 7,
   "id": "8176f7d2",
   "metadata": {},
   "outputs": [
    {
     "data": {
      "text/plain": [
       "array('2019-12-31', dtype='datetime64[D]')"
      ]
     },
     "execution_count": 7,
     "metadata": {},
     "output_type": "execute_result"
    }
   ],
   "source": [
    "date = np.array('2019-12-31', dtype=np.datetime64)\n",
    "date"
   ]
  },
  {
   "cell_type": "markdown",
   "id": "6fb71eb3",
   "metadata": {},
   "source": [
    "#### now we can do vertorized operations on it"
   ]
  },
  {
   "cell_type": "code",
   "execution_count": 8,
   "id": "cad30952",
   "metadata": {},
   "outputs": [
    {
     "data": {
      "text/plain": [
       "array(['2019-12-31', '2020-01-01', '2020-01-02', '2020-01-03',\n",
       "       '2020-01-04', '2020-01-05', '2020-01-06', '2020-01-07',\n",
       "       '2020-01-08', '2020-01-09', '2020-01-10', '2020-01-11'],\n",
       "      dtype='datetime64[D]')"
      ]
     },
     "execution_count": 8,
     "metadata": {},
     "output_type": "execute_result"
    }
   ],
   "source": [
    "date + np.arange(12)"
   ]
  },
  {
   "cell_type": "markdown",
   "id": "fbf76012",
   "metadata": {},
   "source": [
    "#### For example, if you want a time resolution of one nanosecond, you only have enough information to encode a range of $2^{64}$ nanoseconds, or just under 600 years."
   ]
  },
  {
   "cell_type": "code",
   "execution_count": 9,
   "id": "be02ea76",
   "metadata": {},
   "outputs": [
    {
     "data": {
      "text/plain": [
       "numpy.datetime64('2015-07-04')"
      ]
     },
     "execution_count": 9,
     "metadata": {},
     "output_type": "execute_result"
    }
   ],
   "source": [
    "np.datetime64('2015-07-04')"
   ]
  },
  {
   "cell_type": "code",
   "execution_count": 10,
   "id": "5f9c166c",
   "metadata": {},
   "outputs": [
    {
     "data": {
      "text/plain": [
       "numpy.datetime64('2019-12-31T11:00')"
      ]
     },
     "execution_count": 10,
     "metadata": {},
     "output_type": "execute_result"
    }
   ],
   "source": [
    "np.datetime64('2019-12-31 11:00')"
   ]
  },
  {
   "cell_type": "code",
   "execution_count": 11,
   "id": "0574cb2e",
   "metadata": {},
   "outputs": [
    {
     "data": {
      "text/html": [
       "<div>\n",
       "<style scoped>\n",
       "    .dataframe tbody tr th:only-of-type {\n",
       "        vertical-align: middle;\n",
       "    }\n",
       "\n",
       "    .dataframe tbody tr th {\n",
       "        vertical-align: top;\n",
       "    }\n",
       "\n",
       "    .dataframe thead th {\n",
       "        text-align: right;\n",
       "    }\n",
       "</style>\n",
       "<table border=\"1\" class=\"dataframe\">\n",
       "  <thead>\n",
       "    <tr style=\"text-align: right;\">\n",
       "      <th></th>\n",
       "      <th>count</th>\n",
       "      <th>mean</th>\n",
       "      <th>std</th>\n",
       "      <th>min</th>\n",
       "      <th>25%</th>\n",
       "      <th>50%</th>\n",
       "      <th>75%</th>\n",
       "      <th>max</th>\n",
       "    </tr>\n",
       "    <tr>\n",
       "      <th>order_date</th>\n",
       "      <th></th>\n",
       "      <th></th>\n",
       "      <th></th>\n",
       "      <th></th>\n",
       "      <th></th>\n",
       "      <th></th>\n",
       "      <th></th>\n",
       "      <th></th>\n",
       "    </tr>\n",
       "  </thead>\n",
       "  <tbody>\n",
       "    <tr>\n",
       "      <th>2009-12-01 07:45:00</th>\n",
       "      <td>8.0</td>\n",
       "      <td>6.734062</td>\n",
       "      <td>4.489988</td>\n",
       "      <td>2.0625</td>\n",
       "      <td>2.55750</td>\n",
       "      <td>6.64125</td>\n",
       "      <td>11.1375</td>\n",
       "      <td>11.4675</td>\n",
       "    </tr>\n",
       "    <tr>\n",
       "      <th>2009-12-01 07:46:00</th>\n",
       "      <td>4.0</td>\n",
       "      <td>4.331250</td>\n",
       "      <td>1.421779</td>\n",
       "      <td>2.7225</td>\n",
       "      <td>3.83625</td>\n",
       "      <td>4.20750</td>\n",
       "      <td>4.7025</td>\n",
       "      <td>6.1875</td>\n",
       "    </tr>\n",
       "    <tr>\n",
       "      <th>2009-12-03 14:06:00</th>\n",
       "      <td>9.0</td>\n",
       "      <td>5.949167</td>\n",
       "      <td>2.057728</td>\n",
       "      <td>2.7225</td>\n",
       "      <td>4.20750</td>\n",
       "      <td>6.18750</td>\n",
       "      <td>7.0125</td>\n",
       "      <td>9.8175</td>\n",
       "    </tr>\n",
       "    <tr>\n",
       "      <th>2009-12-03 14:07:00</th>\n",
       "      <td>5.0</td>\n",
       "      <td>4.438500</td>\n",
       "      <td>3.845951</td>\n",
       "      <td>2.0625</td>\n",
       "      <td>2.06250</td>\n",
       "      <td>2.72250</td>\n",
       "      <td>4.2075</td>\n",
       "      <td>11.1375</td>\n",
       "    </tr>\n",
       "    <tr>\n",
       "      <th>2010-01-29 10:06:00</th>\n",
       "      <td>17.0</td>\n",
       "      <td>5.760441</td>\n",
       "      <td>3.840044</td>\n",
       "      <td>0.9075</td>\n",
       "      <td>2.72250</td>\n",
       "      <td>4.86750</td>\n",
       "      <td>11.1375</td>\n",
       "      <td>11.1375</td>\n",
       "    </tr>\n",
       "    <tr>\n",
       "      <th>2010-01-29 11:42:00</th>\n",
       "      <td>19.0</td>\n",
       "      <td>5.440658</td>\n",
       "      <td>3.744999</td>\n",
       "      <td>0.9075</td>\n",
       "      <td>2.72250</td>\n",
       "      <td>4.86750</td>\n",
       "      <td>8.6625</td>\n",
       "      <td>11.1375</td>\n",
       "    </tr>\n",
       "    <tr>\n",
       "      <th>2010-10-15 15:35:00</th>\n",
       "      <td>1.0</td>\n",
       "      <td>1369.698000</td>\n",
       "      <td>NaN</td>\n",
       "      <td>1369.6980</td>\n",
       "      <td>1369.69800</td>\n",
       "      <td>1369.69800</td>\n",
       "      <td>1369.6980</td>\n",
       "      <td>1369.6980</td>\n",
       "    </tr>\n",
       "    <tr>\n",
       "      <th>2011-02-17 13:57:00</th>\n",
       "      <td>13.0</td>\n",
       "      <td>5.165769</td>\n",
       "      <td>4.168569</td>\n",
       "      <td>1.4025</td>\n",
       "      <td>2.06250</td>\n",
       "      <td>3.46500</td>\n",
       "      <td>8.1675</td>\n",
       "      <td>13.1175</td>\n",
       "    </tr>\n",
       "    <tr>\n",
       "      <th>2011-04-28 16:15:00</th>\n",
       "      <td>7.0</td>\n",
       "      <td>3.017143</td>\n",
       "      <td>1.149938</td>\n",
       "      <td>1.4025</td>\n",
       "      <td>2.22750</td>\n",
       "      <td>3.46500</td>\n",
       "      <td>3.4650</td>\n",
       "      <td>4.8675</td>\n",
       "    </tr>\n",
       "    <tr>\n",
       "      <th>2011-07-05 12:11:00</th>\n",
       "      <td>9.0</td>\n",
       "      <td>8.686333</td>\n",
       "      <td>5.149878</td>\n",
       "      <td>2.0625</td>\n",
       "      <td>3.43200</td>\n",
       "      <td>8.16750</td>\n",
       "      <td>13.1175</td>\n",
       "      <td>14.0250</td>\n",
       "    </tr>\n",
       "  </tbody>\n",
       "</table>\n",
       "</div>"
      ],
      "text/plain": [
       "                     count         mean       std        min         25%  \\\n",
       "order_date                                                                 \n",
       "2009-12-01 07:45:00    8.0     6.734062  4.489988     2.0625     2.55750   \n",
       "2009-12-01 07:46:00    4.0     4.331250  1.421779     2.7225     3.83625   \n",
       "2009-12-03 14:06:00    9.0     5.949167  2.057728     2.7225     4.20750   \n",
       "2009-12-03 14:07:00    5.0     4.438500  3.845951     2.0625     2.06250   \n",
       "2010-01-29 10:06:00   17.0     5.760441  3.840044     0.9075     2.72250   \n",
       "2010-01-29 11:42:00   19.0     5.440658  3.744999     0.9075     2.72250   \n",
       "2010-10-15 15:35:00    1.0  1369.698000       NaN  1369.6980  1369.69800   \n",
       "2011-02-17 13:57:00   13.0     5.165769  4.168569     1.4025     2.06250   \n",
       "2011-04-28 16:15:00    7.0     3.017143  1.149938     1.4025     2.22750   \n",
       "2011-07-05 12:11:00    9.0     8.686333  5.149878     2.0625     3.43200   \n",
       "\n",
       "                            50%        75%        max  \n",
       "order_date                                             \n",
       "2009-12-01 07:45:00     6.64125    11.1375    11.4675  \n",
       "2009-12-01 07:46:00     4.20750     4.7025     6.1875  \n",
       "2009-12-03 14:06:00     6.18750     7.0125     9.8175  \n",
       "2009-12-03 14:07:00     2.72250     4.2075    11.1375  \n",
       "2010-01-29 10:06:00     4.86750    11.1375    11.1375  \n",
       "2010-01-29 11:42:00     4.86750     8.6625    11.1375  \n",
       "2010-10-15 15:35:00  1369.69800  1369.6980  1369.6980  \n",
       "2011-02-17 13:57:00     3.46500     8.1675    13.1175  \n",
       "2011-04-28 16:15:00     3.46500     3.4650     4.8675  \n",
       "2011-07-05 12:11:00     8.16750    13.1175    14.0250  "
      ]
     },
     "execution_count": 11,
     "metadata": {},
     "output_type": "execute_result"
    }
   ],
   "source": [
    "data[data['customer_id'] == 13085].groupby('order_date')['price'].describe()"
   ]
  },
  {
   "cell_type": "code",
   "execution_count": 144,
   "id": "b26bc981",
   "metadata": {},
   "outputs": [
    {
     "name": "stdout",
     "output_type": "stream",
     "text": [
      "customer_id\n",
      "12346      -85.3710\n",
      "12347     7749.5715\n",
      "12348     3332.0100\n",
      "12349     7267.4910\n",
      "12350      551.7600\n",
      "12351      496.5345\n",
      "12352     3117.1965\n",
      "12353      671.1540\n",
      "12354     1781.0100\n",
      "12355     1563.5565\n",
      "12356    10513.3545\n",
      "12357    30174.6390\n",
      "12358     5286.3855\n",
      "12359    14426.9235\n",
      "12360     6951.2685\n",
      "Name: total, dtype: float64\n"
     ]
    }
   ],
   "source": [
    "total_sum_of_cus = data.groupby(['customer_id']).total.sum()\n",
    "print(total_sum_of_cus.head(15))"
   ]
  },
  {
   "cell_type": "code",
   "execution_count": 87,
   "id": "5e116b48",
   "metadata": {},
   "outputs": [
    {
     "data": {
      "text/plain": [
       "['A', 'B', 'C', 'D', 'E']"
      ]
     },
     "execution_count": 87,
     "metadata": {},
     "output_type": "execute_result"
    }
   ],
   "source": [
    "customers = total_sum_of_cus.index.to_numpy()\n",
    "sums_by_cus = total_sum_of_cus.values\n",
    "tiers = [chr(65+i) for i in range(5)]\n",
    "tiers"
   ]
  },
  {
   "cell_type": "code",
   "execution_count": 88,
   "id": "e76fc26e",
   "metadata": {},
   "outputs": [
    {
     "name": "stdout",
     "output_type": "stream",
     "text": [
      "[-41433.2985 151288.7343 344010.7671 536732.7999 729454.8327 922176.8655]\n"
     ]
    }
   ],
   "source": [
    "# count, bin_dividers = np.histogram(total_sum_of_cus, bins=5)\n",
    "# print(bin_dividers)"
   ]
  },
  {
   "cell_type": "code",
   "execution_count": 145,
   "id": "35e3bb44",
   "metadata": {},
   "outputs": [],
   "source": [
    "# pd.cut 함수로 각 데이터를 5개의 bin에 할당\n",
    "tier_bins = pd.qcut(x=total_sum_of_cus,               # 데이터 배열\n",
    "                    q=5,\n",
    "                    labels=tiers)                                        # 첫 경계값 포함\n",
    "# pd.qcut"
   ]
  },
  {
   "cell_type": "code",
   "execution_count": 142,
   "id": "7291d1b1",
   "metadata": {},
   "outputs": [],
   "source": [
    "tier_bins = tier_bins.to_frame(name=\"tier\")\n",
    "tier_bins['customer_id'] = tier_bins.index\n",
    "tier_bins = tier_bins.set_index(keys=np.arange(5914))\n",
    "# tier_bins.rename(columns = {'total':'tier'})\n",
    "# pd.merge(pd.DataFrame(np.arange(5914)))"
   ]
  },
  {
   "cell_type": "code",
   "execution_count": 143,
   "id": "8e84e8e0",
   "metadata": {},
   "outputs": [
    {
     "data": {
      "text/html": [
       "<div>\n",
       "<style scoped>\n",
       "    .dataframe tbody tr th:only-of-type {\n",
       "        vertical-align: middle;\n",
       "    }\n",
       "\n",
       "    .dataframe tbody tr th {\n",
       "        vertical-align: top;\n",
       "    }\n",
       "\n",
       "    .dataframe thead th {\n",
       "        text-align: right;\n",
       "    }\n",
       "</style>\n",
       "<table border=\"1\" class=\"dataframe\">\n",
       "  <thead>\n",
       "    <tr style=\"text-align: right;\">\n",
       "      <th></th>\n",
       "      <th>tier</th>\n",
       "      <th>customer_id</th>\n",
       "    </tr>\n",
       "  </thead>\n",
       "  <tbody>\n",
       "    <tr>\n",
       "      <th>0</th>\n",
       "      <td>A</td>\n",
       "      <td>12346</td>\n",
       "    </tr>\n",
       "    <tr>\n",
       "      <th>1</th>\n",
       "      <td>E</td>\n",
       "      <td>12347</td>\n",
       "    </tr>\n",
       "    <tr>\n",
       "      <th>2</th>\n",
       "      <td>D</td>\n",
       "      <td>12348</td>\n",
       "    </tr>\n",
       "    <tr>\n",
       "      <th>3</th>\n",
       "      <td>E</td>\n",
       "      <td>12349</td>\n",
       "    </tr>\n",
       "    <tr>\n",
       "      <th>4</th>\n",
       "      <td>B</td>\n",
       "      <td>12350</td>\n",
       "    </tr>\n",
       "    <tr>\n",
       "      <th>...</th>\n",
       "      <td>...</td>\n",
       "      <td>...</td>\n",
       "    </tr>\n",
       "    <tr>\n",
       "      <th>5909</th>\n",
       "      <td>D</td>\n",
       "      <td>18283</td>\n",
       "    </tr>\n",
       "    <tr>\n",
       "      <th>5910</th>\n",
       "      <td>B</td>\n",
       "      <td>18284</td>\n",
       "    </tr>\n",
       "    <tr>\n",
       "      <th>5911</th>\n",
       "      <td>B</td>\n",
       "      <td>18285</td>\n",
       "    </tr>\n",
       "    <tr>\n",
       "      <th>5912</th>\n",
       "      <td>D</td>\n",
       "      <td>18286</td>\n",
       "    </tr>\n",
       "    <tr>\n",
       "      <th>5913</th>\n",
       "      <td>E</td>\n",
       "      <td>18287</td>\n",
       "    </tr>\n",
       "  </tbody>\n",
       "</table>\n",
       "<p>5914 rows × 2 columns</p>\n",
       "</div>"
      ],
      "text/plain": [
       "     tier  customer_id\n",
       "0       A        12346\n",
       "1       E        12347\n",
       "2       D        12348\n",
       "3       E        12349\n",
       "4       B        12350\n",
       "...   ...          ...\n",
       "5909    D        18283\n",
       "5910    B        18284\n",
       "5911    B        18285\n",
       "5912    D        18286\n",
       "5913    E        18287\n",
       "\n",
       "[5914 rows x 2 columns]"
      ]
     },
     "execution_count": 143,
     "metadata": {},
     "output_type": "execute_result"
    }
   ],
   "source": [
    "tier_bins"
   ]
  },
  {
   "cell_type": "code",
   "execution_count": 58,
   "id": "b2a227e0",
   "metadata": {},
   "outputs": [
    {
     "data": {
      "text/plain": [
       "customer_id\n",
       "12346    False\n",
       "12347     True\n",
       "12348     True\n",
       "12349     True\n",
       "12350     True\n",
       "         ...  \n",
       "18283     True\n",
       "18284     True\n",
       "18285     True\n",
       "18286     True\n",
       "18287     True\n",
       "Name: total, Length: 5914, dtype: bool"
      ]
     },
     "execution_count": 58,
     "metadata": {},
     "output_type": "execute_result"
    }
   ],
   "source": [
    "total_sum_of_cus > 0"
   ]
  },
  {
   "cell_type": "code",
   "execution_count": 44,
   "id": "90ddea87",
   "metadata": {},
   "outputs": [
    {
     "data": {
      "text/plain": [
       "24"
      ]
     },
     "execution_count": 44,
     "metadata": {},
     "output_type": "execute_result"
    }
   ],
   "source": [
    "data.groupby('year_month').total.count().size"
   ]
  },
  {
   "cell_type": "code",
   "execution_count": 39,
   "id": "52fd1897",
   "metadata": {},
   "outputs": [
    {
     "data": {
      "text/plain": [
       "order_date\n",
       "2009-12-01 07:45:00     8\n",
       "2009-12-01 07:46:00     4\n",
       "2009-12-03 14:06:00     9\n",
       "2009-12-03 14:07:00     5\n",
       "2010-01-29 10:06:00    17\n",
       "2010-01-29 11:42:00    19\n",
       "2010-10-15 15:35:00     1\n",
       "2011-02-17 13:57:00    13\n",
       "2011-04-28 16:15:00     7\n",
       "2011-07-05 12:11:00     9\n",
       "Name: product_id, dtype: int64"
      ]
     },
     "execution_count": 39,
     "metadata": {},
     "output_type": "execute_result"
    }
   ],
   "source": [
    "# 고객 13085는 2010-01-29에 36개의 서로다른 물건을 구매함\n",
    "data[data['customer_id'] == 13085].groupby('order_date').product_id.nunique()"
   ]
  },
  {
   "cell_type": "code",
   "execution_count": 11,
   "id": "58d86bfb",
   "metadata": {},
   "outputs": [
    {
     "data": {
      "text/plain": [
       "5914"
      ]
     },
     "execution_count": 11,
     "metadata": {},
     "output_type": "execute_result"
    }
   ],
   "source": [
    "data['customer_id'].nunique()"
   ]
  },
  {
   "cell_type": "code",
   "execution_count": 20,
   "id": "b468baf8",
   "metadata": {},
   "outputs": [
    {
     "data": {
      "text/plain": [
       "0         13085\n",
       "1         13085\n",
       "2         13085\n",
       "3         13085\n",
       "4         13085\n",
       "          ...  \n",
       "780497    15676\n",
       "780498    15676\n",
       "780499    16717\n",
       "780500    16717\n",
       "780501    16717\n",
       "Name: customer_id, Length: 780502, dtype: int64"
      ]
     },
     "execution_count": 20,
     "metadata": {},
     "output_type": "execute_result"
    }
   ],
   "source": [
    "data['customer_id']"
   ]
  },
  {
   "cell_type": "code",
   "execution_count": 140,
   "id": "a88e562b",
   "metadata": {},
   "outputs": [
    {
     "data": {
      "text/html": [
       "<div>\n",
       "<style scoped>\n",
       "    .dataframe tbody tr th:only-of-type {\n",
       "        vertical-align: middle;\n",
       "    }\n",
       "\n",
       "    .dataframe tbody tr th {\n",
       "        vertical-align: top;\n",
       "    }\n",
       "\n",
       "    .dataframe thead th {\n",
       "        text-align: right;\n",
       "    }\n",
       "</style>\n",
       "<table border=\"1\" class=\"dataframe\">\n",
       "  <thead>\n",
       "    <tr style=\"text-align: right;\">\n",
       "      <th></th>\n",
       "      <th>order_id</th>\n",
       "      <th>product_id</th>\n",
       "      <th>description</th>\n",
       "      <th>quantity</th>\n",
       "      <th>order_date</th>\n",
       "      <th>price</th>\n",
       "      <th>customer_id</th>\n",
       "      <th>country</th>\n",
       "      <th>total</th>\n",
       "      <th>year_month</th>\n",
       "      <th>tier</th>\n",
       "    </tr>\n",
       "  </thead>\n",
       "  <tbody>\n",
       "    <tr>\n",
       "      <th>0</th>\n",
       "      <td>489434</td>\n",
       "      <td>85048</td>\n",
       "      <td>15CM CHRISTMAS GLASS BALL 20 LIGHTS</td>\n",
       "      <td>12</td>\n",
       "      <td>2009-12-01 07:45:00</td>\n",
       "      <td>11.4675</td>\n",
       "      <td>13085</td>\n",
       "      <td>United Kingdom</td>\n",
       "      <td>137.6100</td>\n",
       "      <td>2009-12</td>\n",
       "      <td>D</td>\n",
       "    </tr>\n",
       "    <tr>\n",
       "      <th>1</th>\n",
       "      <td>489434</td>\n",
       "      <td>79323P</td>\n",
       "      <td>PINK CHERRY LIGHTS</td>\n",
       "      <td>12</td>\n",
       "      <td>2009-12-01 07:45:00</td>\n",
       "      <td>11.1375</td>\n",
       "      <td>13085</td>\n",
       "      <td>United Kingdom</td>\n",
       "      <td>133.6500</td>\n",
       "      <td>2009-12</td>\n",
       "      <td>D</td>\n",
       "    </tr>\n",
       "    <tr>\n",
       "      <th>2</th>\n",
       "      <td>489434</td>\n",
       "      <td>79323W</td>\n",
       "      <td>WHITE CHERRY LIGHTS</td>\n",
       "      <td>12</td>\n",
       "      <td>2009-12-01 07:45:00</td>\n",
       "      <td>11.1375</td>\n",
       "      <td>13085</td>\n",
       "      <td>United Kingdom</td>\n",
       "      <td>133.6500</td>\n",
       "      <td>2009-12</td>\n",
       "      <td>D</td>\n",
       "    </tr>\n",
       "    <tr>\n",
       "      <th>3</th>\n",
       "      <td>489434</td>\n",
       "      <td>22041</td>\n",
       "      <td>RECORD FRAME 7\" SINGLE SIZE</td>\n",
       "      <td>48</td>\n",
       "      <td>2009-12-01 07:45:00</td>\n",
       "      <td>3.4650</td>\n",
       "      <td>13085</td>\n",
       "      <td>United Kingdom</td>\n",
       "      <td>166.3200</td>\n",
       "      <td>2009-12</td>\n",
       "      <td>D</td>\n",
       "    </tr>\n",
       "    <tr>\n",
       "      <th>4</th>\n",
       "      <td>489434</td>\n",
       "      <td>21232</td>\n",
       "      <td>STRAWBERRY CERAMIC TRINKET BOX</td>\n",
       "      <td>24</td>\n",
       "      <td>2009-12-01 07:45:00</td>\n",
       "      <td>2.0625</td>\n",
       "      <td>13085</td>\n",
       "      <td>United Kingdom</td>\n",
       "      <td>49.5000</td>\n",
       "      <td>2009-12</td>\n",
       "      <td>D</td>\n",
       "    </tr>\n",
       "    <tr>\n",
       "      <th>...</th>\n",
       "      <td>...</td>\n",
       "      <td>...</td>\n",
       "      <td>...</td>\n",
       "      <td>...</td>\n",
       "      <td>...</td>\n",
       "      <td>...</td>\n",
       "      <td>...</td>\n",
       "      <td>...</td>\n",
       "      <td>...</td>\n",
       "      <td>...</td>\n",
       "      <td>...</td>\n",
       "    </tr>\n",
       "    <tr>\n",
       "      <th>780497</th>\n",
       "      <td>579754</td>\n",
       "      <td>84997C</td>\n",
       "      <td>CHILDRENS CUTLERY POLKADOT BLUE</td>\n",
       "      <td>1</td>\n",
       "      <td>2011-11-30 14:52:00</td>\n",
       "      <td>6.8475</td>\n",
       "      <td>17911</td>\n",
       "      <td>United Kingdom</td>\n",
       "      <td>6.8475</td>\n",
       "      <td>2011-11</td>\n",
       "      <td>B</td>\n",
       "    </tr>\n",
       "    <tr>\n",
       "      <th>780498</th>\n",
       "      <td>579754</td>\n",
       "      <td>84997B</td>\n",
       "      <td>CHILDRENS CUTLERY RETROSPOT RED</td>\n",
       "      <td>1</td>\n",
       "      <td>2011-11-30 14:52:00</td>\n",
       "      <td>6.8475</td>\n",
       "      <td>17911</td>\n",
       "      <td>United Kingdom</td>\n",
       "      <td>6.8475</td>\n",
       "      <td>2011-11</td>\n",
       "      <td>B</td>\n",
       "    </tr>\n",
       "    <tr>\n",
       "      <th>780499</th>\n",
       "      <td>579754</td>\n",
       "      <td>84997A</td>\n",
       "      <td>CHILDRENS CUTLERY POLKADOT GREEN</td>\n",
       "      <td>2</td>\n",
       "      <td>2011-11-30 14:52:00</td>\n",
       "      <td>6.8475</td>\n",
       "      <td>17911</td>\n",
       "      <td>United Kingdom</td>\n",
       "      <td>13.6950</td>\n",
       "      <td>2011-11</td>\n",
       "      <td>B</td>\n",
       "    </tr>\n",
       "    <tr>\n",
       "      <th>780500</th>\n",
       "      <td>579754</td>\n",
       "      <td>23353</td>\n",
       "      <td>6 GIFT TAGS VINTAGE CHRISTMAS</td>\n",
       "      <td>36</td>\n",
       "      <td>2011-11-30 14:52:00</td>\n",
       "      <td>1.3695</td>\n",
       "      <td>17911</td>\n",
       "      <td>United Kingdom</td>\n",
       "      <td>49.3020</td>\n",
       "      <td>2011-11</td>\n",
       "      <td>B</td>\n",
       "    </tr>\n",
       "    <tr>\n",
       "      <th>780501</th>\n",
       "      <td>579754</td>\n",
       "      <td>22141</td>\n",
       "      <td>CHRISTMAS CRAFT TREE TOP ANGEL</td>\n",
       "      <td>6</td>\n",
       "      <td>2011-11-30 14:52:00</td>\n",
       "      <td>3.4650</td>\n",
       "      <td>17911</td>\n",
       "      <td>United Kingdom</td>\n",
       "      <td>20.7900</td>\n",
       "      <td>2011-11</td>\n",
       "      <td>B</td>\n",
       "    </tr>\n",
       "  </tbody>\n",
       "</table>\n",
       "<p>780502 rows × 11 columns</p>\n",
       "</div>"
      ],
      "text/plain": [
       "       order_id product_id                          description  quantity  \\\n",
       "0        489434      85048  15CM CHRISTMAS GLASS BALL 20 LIGHTS        12   \n",
       "1        489434     79323P                   PINK CHERRY LIGHTS        12   \n",
       "2        489434     79323W                  WHITE CHERRY LIGHTS        12   \n",
       "3        489434      22041         RECORD FRAME 7\" SINGLE SIZE         48   \n",
       "4        489434      21232       STRAWBERRY CERAMIC TRINKET BOX        24   \n",
       "...         ...        ...                                  ...       ...   \n",
       "780497   579754     84997C      CHILDRENS CUTLERY POLKADOT BLUE         1   \n",
       "780498   579754     84997B     CHILDRENS CUTLERY RETROSPOT RED          1   \n",
       "780499   579754     84997A    CHILDRENS CUTLERY POLKADOT GREEN          2   \n",
       "780500   579754      23353       6 GIFT TAGS VINTAGE CHRISTMAS         36   \n",
       "780501   579754      22141       CHRISTMAS CRAFT TREE TOP ANGEL         6   \n",
       "\n",
       "                order_date    price  customer_id         country     total  \\\n",
       "0      2009-12-01 07:45:00  11.4675        13085  United Kingdom  137.6100   \n",
       "1      2009-12-01 07:45:00  11.1375        13085  United Kingdom  133.6500   \n",
       "2      2009-12-01 07:45:00  11.1375        13085  United Kingdom  133.6500   \n",
       "3      2009-12-01 07:45:00   3.4650        13085  United Kingdom  166.3200   \n",
       "4      2009-12-01 07:45:00   2.0625        13085  United Kingdom   49.5000   \n",
       "...                    ...      ...          ...             ...       ...   \n",
       "780497 2011-11-30 14:52:00   6.8475        17911  United Kingdom    6.8475   \n",
       "780498 2011-11-30 14:52:00   6.8475        17911  United Kingdom    6.8475   \n",
       "780499 2011-11-30 14:52:00   6.8475        17911  United Kingdom   13.6950   \n",
       "780500 2011-11-30 14:52:00   1.3695        17911  United Kingdom   49.3020   \n",
       "780501 2011-11-30 14:52:00   3.4650        17911  United Kingdom   20.7900   \n",
       "\n",
       "       year_month tier  \n",
       "0         2009-12    D  \n",
       "1         2009-12    D  \n",
       "2         2009-12    D  \n",
       "3         2009-12    D  \n",
       "4         2009-12    D  \n",
       "...           ...  ...  \n",
       "780497    2011-11    B  \n",
       "780498    2011-11    B  \n",
       "780499    2011-11    B  \n",
       "780500    2011-11    B  \n",
       "780501    2011-11    B  \n",
       "\n",
       "[780502 rows x 11 columns]"
      ]
     },
     "execution_count": 140,
     "metadata": {},
     "output_type": "execute_result"
    }
   ],
   "source": [
    "# 고객등급별로 시간을 수평축, 서로 다른 상품의 개수 수직축 으로 그래프를 그리고 싶다. 산점도를 곁들여\n",
    "# 고객등급별로 시간을 수평축, 시간에 따른 구매상품의 개수(sum)을 그래프로 그리고 싶다. 선 그래프를 곁들여\n",
    "df = data.copy()\n",
    "# data['year_month'] = data['order_date'].dt.strftime('%Y-%m')\n",
    "pd.merge(df, tier_bins, on='customer_id')\n",
    "# (단순) 이제 customer에 따라서 월별 팔린 상품 개수를 그래프로 그리고 싶다."
   ]
  },
  {
   "cell_type": "markdown",
   "id": "2144e546",
   "metadata": {},
   "source": [
    "## Pandas info() 함수로 데이터 타입 및 null 체크"
   ]
  },
  {
   "cell_type": "code",
   "execution_count": 16,
   "id": "3f80b5b5",
   "metadata": {},
   "outputs": [
    {
     "name": "stdout",
     "output_type": "stream",
     "text": [
      "<class 'pandas.core.frame.DataFrame'>\n",
      "RangeIndex: 780502 entries, 0 to 780501\n",
      "Data columns (total 9 columns):\n",
      " #   Column       Non-Null Count   Dtype         \n",
      "---  ------       --------------   -----         \n",
      " 0   order_id     780502 non-null  object        \n",
      " 1   product_id   780502 non-null  object        \n",
      " 2   description  780502 non-null  object        \n",
      " 3   quantity     780502 non-null  int64         \n",
      " 4   order_date   780502 non-null  datetime64[ns]\n",
      " 5   price        780502 non-null  float64       \n",
      " 6   customer_id  780502 non-null  int64         \n",
      " 7   country      780502 non-null  object        \n",
      " 8   total        780502 non-null  float64       \n",
      "dtypes: datetime64[ns](1), float64(2), int64(2), object(4)\n",
      "memory usage: 53.6+ MB\n"
     ]
    }
   ],
   "source": [
    "#%%\n",
    "\n",
    "data.info()"
   ]
  },
  {
   "cell_type": "markdown",
   "id": "e30fbab8",
   "metadata": {},
   "source": [
    "#%% md\n",
    "\n",
    "## Pandas isna(), sum() 함수로 null 데이터 개수 체크"
   ]
  },
  {
   "cell_type": "code",
   "execution_count": 17,
   "id": "91990a33",
   "metadata": {},
   "outputs": [
    {
     "data": {
      "text/plain": [
       "order_id       0\n",
       "product_id     0\n",
       "description    0\n",
       "quantity       0\n",
       "order_date     0\n",
       "price          0\n",
       "customer_id    0\n",
       "country        0\n",
       "total          0\n",
       "dtype: int64"
      ]
     },
     "execution_count": 17,
     "metadata": {},
     "output_type": "execute_result"
    }
   ],
   "source": [
    "#%%\n",
    "\n",
    "data.isna().sum()"
   ]
  },
  {
   "cell_type": "markdown",
   "id": "02032b54",
   "metadata": {},
   "source": [
    "#%% md\n",
    "\n",
    "## Pandas describe() 함수에 include='all' 인자 설정으로 수치형, 범주형 데이터 기본 통계량 확인"
   ]
  },
  {
   "cell_type": "code",
   "execution_count": 18,
   "id": "fe6621b3",
   "metadata": {},
   "outputs": [
    {
     "data": {
      "text/html": [
       "<div>\n",
       "<style scoped>\n",
       "    .dataframe tbody tr th:only-of-type {\n",
       "        vertical-align: middle;\n",
       "    }\n",
       "\n",
       "    .dataframe tbody tr th {\n",
       "        vertical-align: top;\n",
       "    }\n",
       "\n",
       "    .dataframe thead th {\n",
       "        text-align: right;\n",
       "    }\n",
       "</style>\n",
       "<table border=\"1\" class=\"dataframe\">\n",
       "  <thead>\n",
       "    <tr style=\"text-align: right;\">\n",
       "      <th></th>\n",
       "      <th>order_id</th>\n",
       "      <th>product_id</th>\n",
       "      <th>description</th>\n",
       "      <th>quantity</th>\n",
       "      <th>order_date</th>\n",
       "      <th>price</th>\n",
       "      <th>customer_id</th>\n",
       "      <th>country</th>\n",
       "      <th>total</th>\n",
       "    </tr>\n",
       "  </thead>\n",
       "  <tbody>\n",
       "    <tr>\n",
       "      <th>count</th>\n",
       "      <td>780502</td>\n",
       "      <td>780502</td>\n",
       "      <td>780502</td>\n",
       "      <td>780502.000000</td>\n",
       "      <td>780502</td>\n",
       "      <td>780502.000000</td>\n",
       "      <td>780502.000000</td>\n",
       "      <td>780502</td>\n",
       "      <td>780502.000000</td>\n",
       "    </tr>\n",
       "    <tr>\n",
       "      <th>unique</th>\n",
       "      <td>43955</td>\n",
       "      <td>4645</td>\n",
       "      <td>5297</td>\n",
       "      <td>NaN</td>\n",
       "      <td>40615</td>\n",
       "      <td>NaN</td>\n",
       "      <td>NaN</td>\n",
       "      <td>41</td>\n",
       "      <td>NaN</td>\n",
       "    </tr>\n",
       "    <tr>\n",
       "      <th>top</th>\n",
       "      <td>576339</td>\n",
       "      <td>85123A</td>\n",
       "      <td>WHITE HANGING HEART T-LIGHT HOLDER</td>\n",
       "      <td>NaN</td>\n",
       "      <td>2011-11-14 15:27:00</td>\n",
       "      <td>NaN</td>\n",
       "      <td>NaN</td>\n",
       "      <td>United Kingdom</td>\n",
       "      <td>NaN</td>\n",
       "    </tr>\n",
       "    <tr>\n",
       "      <th>freq</th>\n",
       "      <td>542</td>\n",
       "      <td>5096</td>\n",
       "      <td>5096</td>\n",
       "      <td>NaN</td>\n",
       "      <td>543</td>\n",
       "      <td>NaN</td>\n",
       "      <td>NaN</td>\n",
       "      <td>700317</td>\n",
       "      <td>NaN</td>\n",
       "    </tr>\n",
       "    <tr>\n",
       "      <th>first</th>\n",
       "      <td>NaN</td>\n",
       "      <td>NaN</td>\n",
       "      <td>NaN</td>\n",
       "      <td>NaN</td>\n",
       "      <td>2009-12-01 07:45:00</td>\n",
       "      <td>NaN</td>\n",
       "      <td>NaN</td>\n",
       "      <td>NaN</td>\n",
       "      <td>NaN</td>\n",
       "    </tr>\n",
       "    <tr>\n",
       "      <th>last</th>\n",
       "      <td>NaN</td>\n",
       "      <td>NaN</td>\n",
       "      <td>NaN</td>\n",
       "      <td>NaN</td>\n",
       "      <td>2011-11-30 17:42:00</td>\n",
       "      <td>NaN</td>\n",
       "      <td>NaN</td>\n",
       "      <td>NaN</td>\n",
       "      <td>NaN</td>\n",
       "    </tr>\n",
       "    <tr>\n",
       "      <th>mean</th>\n",
       "      <td>NaN</td>\n",
       "      <td>NaN</td>\n",
       "      <td>NaN</td>\n",
       "      <td>12.623307</td>\n",
       "      <td>NaN</td>\n",
       "      <td>6.140931</td>\n",
       "      <td>15313.393466</td>\n",
       "      <td>NaN</td>\n",
       "      <td>33.715373</td>\n",
       "    </tr>\n",
       "    <tr>\n",
       "      <th>std</th>\n",
       "      <td>NaN</td>\n",
       "      <td>NaN</td>\n",
       "      <td>NaN</td>\n",
       "      <td>143.906302</td>\n",
       "      <td>NaN</td>\n",
       "      <td>119.042266</td>\n",
       "      <td>1695.765797</td>\n",
       "      <td>NaN</td>\n",
       "      <td>274.207403</td>\n",
       "    </tr>\n",
       "    <tr>\n",
       "      <th>min</th>\n",
       "      <td>NaN</td>\n",
       "      <td>NaN</td>\n",
       "      <td>NaN</td>\n",
       "      <td>-74215.000000</td>\n",
       "      <td>NaN</td>\n",
       "      <td>0.000000</td>\n",
       "      <td>12346.000000</td>\n",
       "      <td>NaN</td>\n",
       "      <td>-127352.940000</td>\n",
       "    </tr>\n",
       "    <tr>\n",
       "      <th>25%</th>\n",
       "      <td>NaN</td>\n",
       "      <td>NaN</td>\n",
       "      <td>NaN</td>\n",
       "      <td>2.000000</td>\n",
       "      <td>NaN</td>\n",
       "      <td>2.062500</td>\n",
       "      <td>13963.000000</td>\n",
       "      <td>NaN</td>\n",
       "      <td>7.260000</td>\n",
       "    </tr>\n",
       "    <tr>\n",
       "      <th>50%</th>\n",
       "      <td>NaN</td>\n",
       "      <td>NaN</td>\n",
       "      <td>NaN</td>\n",
       "      <td>5.000000</td>\n",
       "      <td>NaN</td>\n",
       "      <td>3.217500</td>\n",
       "      <td>15239.000000</td>\n",
       "      <td>NaN</td>\n",
       "      <td>19.470000</td>\n",
       "    </tr>\n",
       "    <tr>\n",
       "      <th>75%</th>\n",
       "      <td>NaN</td>\n",
       "      <td>NaN</td>\n",
       "      <td>NaN</td>\n",
       "      <td>12.000000</td>\n",
       "      <td>NaN</td>\n",
       "      <td>6.187500</td>\n",
       "      <td>16788.000000</td>\n",
       "      <td>NaN</td>\n",
       "      <td>32.175000</td>\n",
       "    </tr>\n",
       "    <tr>\n",
       "      <th>max</th>\n",
       "      <td>NaN</td>\n",
       "      <td>NaN</td>\n",
       "      <td>NaN</td>\n",
       "      <td>74215.000000</td>\n",
       "      <td>NaN</td>\n",
       "      <td>64300.500000</td>\n",
       "      <td>18287.000000</td>\n",
       "      <td>NaN</td>\n",
       "      <td>127352.940000</td>\n",
       "    </tr>\n",
       "  </tbody>\n",
       "</table>\n",
       "</div>"
      ],
      "text/plain": [
       "       order_id product_id                         description       quantity  \\\n",
       "count    780502     780502                              780502  780502.000000   \n",
       "unique    43955       4645                                5297            NaN   \n",
       "top      576339     85123A  WHITE HANGING HEART T-LIGHT HOLDER            NaN   \n",
       "freq        542       5096                                5096            NaN   \n",
       "first       NaN        NaN                                 NaN            NaN   \n",
       "last        NaN        NaN                                 NaN            NaN   \n",
       "mean        NaN        NaN                                 NaN      12.623307   \n",
       "std         NaN        NaN                                 NaN     143.906302   \n",
       "min         NaN        NaN                                 NaN  -74215.000000   \n",
       "25%         NaN        NaN                                 NaN       2.000000   \n",
       "50%         NaN        NaN                                 NaN       5.000000   \n",
       "75%         NaN        NaN                                 NaN      12.000000   \n",
       "max         NaN        NaN                                 NaN   74215.000000   \n",
       "\n",
       "                 order_date          price    customer_id         country  \\\n",
       "count                780502  780502.000000  780502.000000          780502   \n",
       "unique                40615            NaN            NaN              41   \n",
       "top     2011-11-14 15:27:00            NaN            NaN  United Kingdom   \n",
       "freq                    543            NaN            NaN          700317   \n",
       "first   2009-12-01 07:45:00            NaN            NaN             NaN   \n",
       "last    2011-11-30 17:42:00            NaN            NaN             NaN   \n",
       "mean                    NaN       6.140931   15313.393466             NaN   \n",
       "std                     NaN     119.042266    1695.765797             NaN   \n",
       "min                     NaN       0.000000   12346.000000             NaN   \n",
       "25%                     NaN       2.062500   13963.000000             NaN   \n",
       "50%                     NaN       3.217500   15239.000000             NaN   \n",
       "75%                     NaN       6.187500   16788.000000             NaN   \n",
       "max                     NaN   64300.500000   18287.000000             NaN   \n",
       "\n",
       "                total  \n",
       "count   780502.000000  \n",
       "unique            NaN  \n",
       "top               NaN  \n",
       "freq              NaN  \n",
       "first             NaN  \n",
       "last              NaN  \n",
       "mean        33.715373  \n",
       "std        274.207403  \n",
       "min    -127352.940000  \n",
       "25%          7.260000  \n",
       "50%         19.470000  \n",
       "75%         32.175000  \n",
       "max     127352.940000  "
      ]
     },
     "execution_count": 18,
     "metadata": {},
     "output_type": "execute_result"
    }
   ],
   "source": [
    "#%%\n",
    "\n",
    "data.describe(include='all')"
   ]
  }
 ],
 "metadata": {
  "kernelspec": {
   "display_name": "Python 3",
   "language": "python",
   "name": "python3"
  },
  "language_info": {
   "codemirror_mode": {
    "name": "ipython",
    "version": 3
   },
   "file_extension": ".py",
   "mimetype": "text/x-python",
   "name": "python",
   "nbconvert_exporter": "python",
   "pygments_lexer": "ipython3",
   "version": "3.7.7"
  }
 },
 "nbformat": 4,
 "nbformat_minor": 5
}
